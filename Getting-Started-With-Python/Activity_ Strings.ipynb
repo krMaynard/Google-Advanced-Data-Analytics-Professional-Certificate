{
 "cells": [
  {
   "cell_type": "markdown",
   "metadata": {
    "id": "zdhKGagO-08G"
   },
   "source": [
    "<summary><h1>Activity: Work with strings in Python</h1></summary>"
   ]
  },
  {
   "cell_type": "markdown",
   "metadata": {
    "id": "2Aj2wyhv-4uz"
   },
   "source": [
    "## Introduction \n",
    "\n",
    "Data professionals work with a lot of string data. For example, while analyzing the results of a marketing campaign, you may need to review item descriptions or customer names, which is stored as string data. Becoming comfortable working with strings in Python is essential for the work of a data professional.\n",
    "\n",
    "In this lab, you'll practice coding in Python and working with strings. You'll work with a store ID, ZIP Code, and a custom URL for the store you're gathering data on.\n"
   ]
  },
  {
   "cell_type": "markdown",
   "metadata": {
    "id": "i0uX4za0BkN7"
   },
   "source": [
    "## Task 1: Check and change data types\n",
    "\n",
    "Now that you have experience in marketing, you've moved on to market research. Your new task is collecting store data for future analysis. In this task, you're given a four-digit numeric store ID stored in a variable called `store_id`.\n",
    "\n",
    "1.  Convert `store_id` to a string and store the result in the same variable.\n",
    "2.  Confirm the type of `store_id` after the conversion.\n"
   ]
  },
  {
   "cell_type": "code",
   "execution_count": 87,
   "metadata": {
    "colab": {
     "base_uri": "https://localhost:8080/"
    },
    "executionInfo": {
     "elapsed": 9,
     "status": "ok",
     "timestamp": 1679944105599,
     "user": {
      "displayName": "Matteo Riotto",
      "userId": "15211004813978485634"
     },
     "user_tz": 420
    },
    "id": "mE4L9dLfAgH5",
    "outputId": "48f48e81-1749-4b6c-a31f-e862318f08f2"
   },
   "outputs": [
    {
     "data": {
      "text/plain": [
       "str"
      ]
     },
     "execution_count": 87,
     "metadata": {},
     "output_type": "execute_result"
    }
   ],
   "source": [
    "store_id = 1101\n",
    "\n",
    "# 1. ### YOUR CODE HERE ###\n",
    "store_id = str(store_id)\n",
    "\n",
    "# 2. ### YOUR CODE HERE ###\n",
    "type(store_id)\n"
   ]
  },
  {
   "cell_type": "markdown",
   "metadata": {
    "id": "hYssqAyqAgH7"
   },
   "source": [
    "## Task 2: String concatenation\n",
    "\n",
    "As you continue gathering data, you realize that the `store_id` variable is actually the ZIP Code where the store is located, but the leading `0` has been cut off.\n",
    "\n",
    "*  Define a function called `zip_checker` that accepts the following argument:\n",
    "    *  `zipcode` - a string with either four or five characters\n",
    "\n",
    "*  Return:\n",
    "    *  If `zipcode` has five characters, and the first two characters are NOT `'00'`, return `zipcode` as a string. Otherwise, return `'Invalid ZIP Code.'`. (ZIP Codes do not begin with 00 in the mainland U.S.)\n",
    "    *  If `zipcode` has four characters and the first character is NOT `'0'`, the function must add a zero to the beginning of the string and return the five-character `zipcode` as a string.\n",
    "    *  If `zipcode` has four characters and the first character is `'0'`, the function must return `'Invalid ZIP Code.'`.\n",
    "\n",
    "*Example:*\n",
    "\n",
    "```\n",
    " [IN] zip_checker('02806')\n",
    "[OUT] '02806'\n",
    "\n",
    " [IN] zip_checker('2806')\n",
    "[OUT] '02806'\n",
    "\n",
    " [IN] zip_checker('0280')\n",
    "[OUT] 'Invalid ZIP Code.'\n",
    "\n",
    " [IN] zip_checker('00280')\n",
    "[OUT] 'Invalid ZIP Code.'\n",
    "```\n",
    "\n",
    "**Note that there is more than one way to solve this problem.**"
   ]
  },
  {
   "cell_type": "code",
   "execution_count": 88,
   "metadata": {
    "id": "LpOUeHDaAgH8"
   },
   "outputs": [
    {
     "name": "stdout",
     "output_type": "stream",
     "text": [
      "Invalid ZIP Code: 123\n",
      "Invalid ZIP Code: 123456\n",
      "Invalid ZIP Code: 00123\n",
      "Invalid ZIP Code: 0123\n",
      "Zipcode: 06789\n",
      "Zipcode: 01234\n",
      "Zipcode: 54321\n"
     ]
    },
    {
     "data": {
      "text/plain": [
       "'54321'"
      ]
     },
     "execution_count": 88,
     "metadata": {},
     "output_type": "execute_result"
    }
   ],
   "source": [
    "def print_zipcode(zipcode):\n",
    "    print(f'Zipcode: {zipcode}')\n",
    "\n",
    "\n",
    "def zip_checker(zipcode):\n",
    "    # Sanitize zipcode input to a string.\n",
    "    zipcode = str(zipcode)\n",
    "\n",
    "    \"\"\" \n",
    "    Validate zipcode before proceeding.\n",
    "    If zipcode less than 4 chars, more than 5 chars, starts with 00, or is 4 chars and starts with 0, print an error. \n",
    "    \"\"\"\n",
    "    if len(zipcode) < 4 or len(zipcode) > 5 or zipcode[:2] == '00' or (len(zipcode) == 4 and zipcode[0] == '0'):\n",
    "        print(f'Invalid ZIP Code: {zipcode}')\n",
    "\n",
    "    # If zipcode is 4 chars, add zero to beginning of string and return 5 char `zipcode` as a string.\n",
    "    elif len(zipcode) == 4:\n",
    "        zipcode = f'0{zipcode}'\n",
    "        print_zipcode(zipcode)\n",
    "        return zipcode\n",
    "\n",
    "    # If zipcode is 5 chars, return zipcode without modification.\n",
    "    else:\n",
    "        print_zipcode(zipcode)\n",
    "        return zipcode\n",
    "\n",
    "\n",
    "zip_checker(123)        # Should print Invalid ZIP Code.\n",
    "zip_checker(123456)     # Should print Invalid ZIP Code.\n",
    "zip_checker('00123')    # Should print Invalid ZIP Code.\n",
    "zip_checker('0123')    # Should print Invalid ZIP Code.\n",
    "zip_checker(6789)       # Should sanizitze ZIP Code to start with 0.\n",
    "zip_checker('01234')    # Should print ZIP Code without modification.\n",
    "zip_checker(54321)      # Should print ZIP Code without modification."
   ]
  },
  {
   "cell_type": "markdown",
   "metadata": {
    "id": "tNPNLZLDkG_Y"
   },
   "source": [
    "### Test your function\n",
    "Test your function against the following cases by running the cell below."
   ]
  },
  {
   "cell_type": "code",
   "execution_count": 89,
   "metadata": {
    "colab": {
     "base_uri": "https://localhost:8080/"
    },
    "executionInfo": {
     "elapsed": 4,
     "status": "ok",
     "timestamp": 1679946210275,
     "user": {
      "displayName": "Matteo Riotto",
      "userId": "15211004813978485634"
     },
     "user_tz": 420
    },
    "id": "Hw6Zo-yLkGoh",
    "outputId": "bfe0b331-0c79-4028-afae-2b4088b5239b"
   },
   "outputs": [
    {
     "name": "stdout",
     "output_type": "stream",
     "text": [
      "Zipcode: 02806\n",
      "02806\n",
      "Zipcode: 02806\n",
      "02806\n",
      "Invalid ZIP Code: 0280\n",
      "None\n",
      "Invalid ZIP Code: 00280\n",
      "None\n"
     ]
    }
   ],
   "source": [
    "print(zip_checker('02806'))     # Should return 02806.\n",
    "print(zip_checker('2806'))      # Should return 02806.\n",
    "print(zip_checker('0280'))      # Should return 'Invalid ZIP Code.'\n",
    "print(zip_checker('00280'))     # Should return 'Invalid ZIP Code.'"
   ]
  },
  {
   "cell_type": "markdown",
   "metadata": {
    "id": "IsRgCMTIAgH9"
   },
   "source": [
    "## Task 3: Extract the store ID\n",
    "\n",
    "Now imagine that you've been provided `url`, which is a URL containing the store's actual ID at the end of it.\n",
    "\n",
    "1.  Extract the seven-character store ID from the end of `url` and assign the result to a variable called `id`.\n",
    "2.  Print the contents of `id`."
   ]
  },
  {
   "cell_type": "code",
   "execution_count": 90,
   "metadata": {
    "colab": {
     "base_uri": "https://localhost:8080/"
    },
    "executionInfo": {
     "elapsed": 178,
     "status": "ok",
     "timestamp": 1679251352831,
     "user": {
      "displayName": "Arwen Shackelford",
      "userId": "14614635049532489764"
     },
     "user_tz": 300
    },
    "id": "nbWgk78BAgH-",
    "outputId": "80af19c8-c7e3-4cca-a09d-046616d89f38"
   },
   "outputs": [
    {
     "name": "stdout",
     "output_type": "stream",
     "text": [
      "ID: r626c36\n"
     ]
    }
   ],
   "source": [
    "url = \"https://exampleURL1.com/r626c36\"\n",
    "\n",
    "# 1. Extract the 7 char ID from the end of url.\n",
    "id = url[len(url)-7:]\n",
    "\n",
    "# 2. Print the ID.\n",
    "print(f'ID: {id}')\n"
   ]
  },
  {
   "cell_type": "markdown",
   "metadata": {
    "id": "8YuKkGqfAgH-"
   },
   "source": [
    "## Task 4: String extraction function\n",
    "\n",
    "You have many URLs that contain store IDs, but many of them are invalid&mdash;either because they use an invalid protocol (the beginning of the URL) or because the store ID is not seven characters long.\n",
    "\n",
    "*  The correct URL protocol is `https:` Anything else is invalid.\n",
    "*  A valid store ID must have exactly seven characters.\n",
    "\n",
    "\n",
    "Define a function called `url_checker` that accepts the following argument:\n",
    "*  `url` - a URL string\n",
    "\n",
    "Return:\n",
    "*  If both the protocol and the store ID are invalid:\n",
    "    * print two lines: <br/>\n",
    "    `'{protocol} is an invalid protocol.'` <br/>\n",
    "    `'{store_id} is an invalid store ID.'` <br/>\n",
    "*  If only the protocol is invalid:\n",
    "    * print: <br/>\n",
    "    `'{protocol} is an invalid protocol.'` <br/>\n",
    "*  If only the store ID is invalid:\n",
    "    * print: <br/>\n",
    "        `'{store_id} is an invalid store ID.'` <br/>\n",
    "*  If both the protocol and the store ID are valid, return the store ID.\n",
    "\n",
    "In the above cases, `{protocol}` is a string of the protocol and `{store_id}` is a string of the store ID.\n",
    "\n",
    "*Example:*\n",
    "\n",
    "```\n",
    " [IN] url_checker('http://exampleURL1.com/r626c3')\n",
    "[OUT] 'http: is an invalid protocol.'\n",
    "      'r626c3 is an invalid store ID.'\n",
    "\n",
    " [IN] url_checker('ftps://exampleURL1.com/r626c36')\n",
    "[OUT] 'ftps: is an invalid protocol.'\n",
    "\n",
    " [IN] url_checker('https://exampleURL1.com/r626c3')\n",
    "[OUT] 'r626c3 is an invalid store ID.'\n",
    "\n",
    " [IN] url_checker('https://exampleURL1.com/r626c36')\n",
    "[OUT] 'r626c36'\n",
    "```\n",
    "\n",
    "**Note that there is more than one way to solve this problem.**"
   ]
  },
  {
   "cell_type": "code",
   "execution_count": 91,
   "metadata": {
    "id": "iUHHc1ueigi4"
   },
   "outputs": [
    {
     "name": "stdout",
     "output_type": "stream",
     "text": [
      "Store ID: r626c36\n"
     ]
    },
    {
     "data": {
      "text/plain": [
       "'r626c36'"
      ]
     },
     "execution_count": 91,
     "metadata": {},
     "output_type": "execute_result"
    }
   ],
   "source": [
    "url = 'https://exampleURL1.com/r626c36'\n",
    "\n",
    "def print_invalid_protocol(protocol):\n",
    "    print(f'{protocol} is an invalid protocol.')\n",
    "\n",
    "def print_invalid_id(id):\n",
    "    print(f'{id} is an invalid store ID.')\n",
    "    \n",
    "def is_valid_store_id(id):\n",
    "    return len(id) == 7 \n",
    "    \n",
    "def is_valid_protocol(proto):\n",
    "    return proto == 'https:'\n",
    "    \n",
    "def url_checker(url):\n",
    "    url_array = url.split('/')\n",
    "    if len(url_array)<4:\n",
    "        return f\"Invalid URL\"\n",
    "    protocol = url_array[0]\n",
    "    store_id = url_array[-1]\n",
    "    \n",
    "    if is_valid_protocol(protocol) and is_valid_store_id(store_id):\n",
    "        print(f'Store ID: {store_id}')\n",
    "        return store_id\n",
    "          \n",
    "    else: \n",
    "        if not is_valid_store_id(store_id):\n",
    "            print_invalid_id(store_id)\n",
    "        if not is_valid_protocol(protocol):\n",
    "            print_invalid_protocol(protocol)\n",
    "\n",
    "url_checker(url) \n"
   ]
  },
  {
   "cell_type": "markdown",
   "metadata": {
    "id": "qBDtbcLj9n9d"
   },
   "source": [
    "### Test your function\n",
    "Test your function against the following cases by running the cell below."
   ]
  },
  {
   "cell_type": "code",
   "execution_count": 92,
   "metadata": {
    "colab": {
     "base_uri": "https://localhost:8080/",
     "height": 105
    },
    "executionInfo": {
     "elapsed": 213,
     "status": "ok",
     "timestamp": 1679952730435,
     "user": {
      "displayName": "Matteo Riotto",
      "userId": "15211004813978485634"
     },
     "user_tz": 420
    },
    "id": "vle6y9719n9d",
    "outputId": "bf167846-292e-4e64-fc7c-82e3ca5616ff"
   },
   "outputs": [
    {
     "name": "stdout",
     "output_type": "stream",
     "text": [
      "r626c3 is an invalid store ID.\n",
      "http: is an invalid protocol.\n",
      "\n",
      "ftps: is an invalid protocol.\n",
      "\n",
      "r626c3 is an invalid store ID.\n",
      "\n",
      "Store ID: r626c36\n"
     ]
    },
    {
     "data": {
      "text/plain": [
       "'r626c36'"
      ]
     },
     "execution_count": 92,
     "metadata": {},
     "output_type": "execute_result"
    }
   ],
   "source": [
    "# RUN THIS CELL TO TEST YOUR FUCTION            # Should return:\n",
    "url_checker('http://exampleURL1.com/r626c3')    # 'http: is an invalid protocol.'\n",
    "print()                                         # 'r626c3 is an invalid store ID.'\n",
    "\n",
    "url_checker('ftps://exampleURL1.com/r626c36')   # 'ftps: is an invalid protocol.\n",
    "print()\n",
    "url_checker('https://exampleURL1.com/r626c3')   # 'r626c3 is an invalid store ID.'\n",
    "print()\n",
    "url_checker('https://exampleURL1.com/r626c36')  # 'r626c36'"
   ]
  },
  {
   "cell_type": "markdown",
   "metadata": {
    "id": "2YkzeLnEAgIA"
   },
   "source": [
    "## Conclusions\n",
    "**What are your key takeaways from this lab?**\n",
    "\n"
   ]
  },
  {
   "cell_type": "markdown",
   "metadata": {
    "id": "16cy_uBYrvdP"
   },
   "source": [
    "Splitting strings into an array us a useful way to take actions on the strings' components."
   ]
  }
 ],
 "metadata": {
  "colab": {
   "provenance": []
  },
  "kernelspec": {
   "display_name": "Python 3",
   "language": "python",
   "name": "python3"
  },
  "language_info": {
   "codemirror_mode": {
    "name": "ipython",
    "version": 3
   },
   "file_extension": ".py",
   "mimetype": "text/x-python",
   "name": "python",
   "nbconvert_exporter": "python",
   "pygments_lexer": "ipython3",
   "version": "3.11.4"
  }
 },
 "nbformat": 4,
 "nbformat_minor": 1
}
