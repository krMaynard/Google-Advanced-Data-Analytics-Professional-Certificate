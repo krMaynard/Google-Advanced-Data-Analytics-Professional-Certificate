{
 "cells": [
  {
   "cell_type": "markdown",
   "metadata": {
    "id": "1BwuLdPviXFX"
   },
   "source": [
    "<h1>Activity: Vectors and arrays with NumPy</h1>"
   ]
  },
  {
   "cell_type": "markdown",
   "metadata": {
    "id": "ggu2qS99icFG"
   },
   "source": [
    "## Introduction \n",
    "\n",
    "Your work as a data professional for the U.S. Environmental Protection Agency (EPA) requires you to analyze air quality index data collected from the United States and Mexico.\n",
    "\n",
    "The air quality index (AQI) is a number that runs from 0 to 500. The higher the AQI value, the greater the level of air pollution and the greater the health concern. For example, an AQI value of 50 or below represents good air quality, while an AQI value over 300 represents hazardous air quality. Refer to this guide from [AirNow.gov](https://www.airnow.gov/aqi/aqi-basics/) for more information.\n",
    "\n",
    "In this lab, you will work with NumPy arrays to perform calculations and evaluations with data they contain. Specifically, you'll be working with just the data from the numerical AQI readings.\n"
   ]
  },
  {
   "cell_type": "markdown",
   "metadata": {
    "id": "W6dEFretirNd"
   },
   "source": [
    "# Task 1: Create an array using NumPy\n",
    "\n",
    "The EPA has compiled some AQI data where each AQI report has the state name, county name, and AQI. Refer to the table below as an example.\n",
    "\n",
    "| state_name | county_name | aqi |\n",
    "| ------- | ------- | ------ |\n",
    "| Arizona | Maricopa | 18 |\n",
    "| California | Alameda | 11 |\n",
    "| California | Butte | 6 |\n",
    "| Texas | El Paso | 40 |\n",
    "| Florida | Duval | 15 |\n",
    "\n",
    "<br/>\n"
   ]
  },
  {
   "cell_type": "markdown",
   "metadata": {
    "id": "r-AI4kdk9fwg"
   },
   "source": [
    "## 1a: Import NumPy\n",
    "\n",
    "Import NumPy using its standard alias."
   ]
  },
  {
   "cell_type": "code",
   "execution_count": 1,
   "metadata": {
    "id": "iprLwtIliTxu"
   },
   "outputs": [],
   "source": [
    "import numpy as np"
   ]
  },
  {
   "cell_type": "markdown",
   "metadata": {
    "id": "2PYX8U_C9nFw"
   },
   "source": [
    "## 1b: Create an array of AQI data\n",
    "\n",
    "You are given an ordered `list` of AQI readings called `aqi_list`.\n",
    "\n",
    "1. Use a NumPy function to convert the list to an `ndarray`. Assign the result to a variable called `aqi_array`.\n",
    "2. Print the length of `aqi_array`.\n",
    "3. Print the first five elements of `aqi_array`.\n",
    "\n",
    "*Expected result:*\n",
    "\n",
    "```\n",
    "[OUT] 1725\n",
    "      [18.  9. 20. 11.  6.]\n",
    "```"
   ]
  },
  {
   "cell_type": "code",
   "execution_count": 2,
   "metadata": {
    "id": "vODHtgS094Md"
   },
   "outputs": [
    {
     "data": {
      "text/plain": [
       "[18.0, 9.0, 20.0, 11.0, 6.0, 11.0, 7.0, 3.0, 7.0, 13.0]"
      ]
     },
     "execution_count": 2,
     "metadata": {},
     "output_type": "execute_result"
    }
   ],
   "source": [
    "### RUN THIS CELL TO IMPORT YOUR DATA\n",
    "import ada_c2_labs as lab\n",
    "aqi_list = lab.fetch_epa('aqi')\n",
    "\n",
    "aqi_list[0:10]"
   ]
  },
  {
   "cell_type": "code",
   "execution_count": 15,
   "metadata": {
    "id": "FHIOmXBpxixx"
   },
   "outputs": [
    {
     "name": "stdout",
     "output_type": "stream",
     "text": [
      "1725\n",
      "[18.  9. 20. 11.  6.]\n"
     ]
    }
   ],
   "source": [
    "# 1. Use a NumPy function to convert the list to an `ndarray`. Assign the result to a variable called `aqi_array`.\n",
    "\n",
    "aqi_array = np.ndarray(len(aqi_list), buffer=np.array(aqi_list), dtype=float)\n",
    "\n",
    "# 2. Print the length of `aqi_array`.\n",
    "\n",
    "print(len(aqi_array))\n",
    "\n",
    "# 3. Print the first five elements of `aqi_array`.\n",
    "\n",
    "print(aqi_array[0:5])\n"
   ]
  },
  {
   "cell_type": "markdown",
   "metadata": {
    "id": "ugLjdpOGBHZh"
   },
   "source": [
    "# Task 2: Calculate summary statistics\n",
    "\n",
    "Now that you have the AQI data stored in an array, use NumPy functions to calculate some summary statistics about it.\n",
    "\n",
    "* Use built-in NumPy functions to print the following values from `aqi_array`:\n",
    "    1. Maximum value\n",
    "    2. Minimum value\n",
    "    3. Median value\n",
    "    4. Standard deviation\n",
    "\n",
    "*Expected result:*\n",
    "\n",
    "```\n",
    "[OUT] Max = 93.0\n",
    "      Min = 0.0\n",
    "      Median = 8.0\n",
    "      Std = 10.382982538847708\n",
    "```"
   ]
  },
  {
   "cell_type": "code",
   "execution_count": 13,
   "metadata": {
    "id": "B5Iqr7BwBf1s"
   },
   "outputs": [
    {
     "name": "stdout",
     "output_type": "stream",
     "text": [
      "Max = 93.0\n",
      "Min = 0.0\n",
      "Median = 8.0\n",
      "Stf = 10.382982538847708\n"
     ]
    }
   ],
   "source": [
    "print(f'Max = {np.max(aqi_array)}')\n",
    "print(f'Min = {np.min(aqi_array)}')\n",
    "print(f'Median = {np.median(aqi_array)}')\n",
    "print(f'Stf = {np.std(aqi_array)}')"
   ]
  },
  {
   "cell_type": "markdown",
   "metadata": {
    "id": "nEn8XcTNaAqr"
   },
   "source": [
    "# Task 3: Calculate percentage of readings with cleanest AQI\n",
    "\n",
    "You are interested in how many air quality readings in the data represent the cleanest air, which we'll consider **readings of 5 or less.**\n",
    "\n",
    "To perform this calculation, you'll make use of one of the properties of arrays that make them so powerful: their element-wise operability. For example, when you add an integer to an `ndarray` using the `+` operator, it performs an element-wise addition on the whole array.\n",
    "\n",
    "```\n",
    "[IN]  my_array = np.array([1, 2, 3])\n",
    "      my_array = my_array + 10\n",
    "      print(my_array)\n",
    "\n",
    "[OUT] [11, 12, 13]\n",
    "```\n",
    "\n",
    "**The same concept applies to comparison operators used on an `ndarray`.** With this in mind:\n",
    "\n",
    "* Calculate the percentage of AQI readings that are considered cleanest:\n",
    "    1. Use a comparison statement to get an array of Boolean values that is the same length as `aqi_array`. Assign the result to variable called `boolean_aqi`.\n",
    "    2. Calculate the number of `True` values in the `boolean_aqi` and divide this number by the total number of values in the array. Assign the result to a variable named `percent_under_6` and print it.\n",
    "\n",
    "*Expected result:*\n",
    "\n",
    "```\n",
    "[OUT] 0.3194202898550725\n",
    "```\n",
    "\n",
    "\n"
   ]
  },
  {
   "cell_type": "code",
   "execution_count": 40,
   "metadata": {
    "id": "bIT_DvzW_Pft"
   },
   "outputs": [
    {
     "data": {
      "text/plain": [
       "0.3194202898550725"
      ]
     },
     "execution_count": 40,
     "metadata": {},
     "output_type": "execute_result"
    }
   ],
   "source": [
    "# 1. Use a comparison statement to get an array of Boolean values that is the same length as `aqi_array`. Assign the result to variable called `boolean_aqi`.\n",
    "\n",
    "boolean_aqi = aqi_array < 6\n",
    " \n",
    "#  2. Calculate the number of `True` values in the `boolean_aqi` and divide this number by the total number of values in the array. Assign the result to a variable named `percent_under_6` and print it.\n",
    "\n",
    "num_true = np.sum(boolean_aqi)\n",
    "\n",
    "percent_under_6 = num_true / len(aqi_array)\n",
    "\n",
    "percent_under_6\n"
   ]
  },
  {
   "cell_type": "markdown",
   "metadata": {
    "id": "XmR1gE_3i4m8"
   },
   "source": [
    "## Conclusion\n",
    "\n",
    "**What are your key takeaways from this lab?**"
   ]
  },
  {
   "cell_type": "markdown",
   "metadata": {
    "id": "7Ahc6avOE-7w"
   },
   "source": [
    "NumPy provides some great tools to abstract the details of working with arrays."
   ]
  }
 ],
 "metadata": {
  "colab": {
   "provenance": []
  },
  "kernelspec": {
   "display_name": "Python 3",
   "language": "python",
   "name": "python3"
  },
  "language_info": {
   "codemirror_mode": {
    "name": "ipython",
    "version": 3
   },
   "file_extension": ".py",
   "mimetype": "text/x-python",
   "name": "python",
   "nbconvert_exporter": "python",
   "pygments_lexer": "ipython3",
   "version": "3.11.4"
  }
 },
 "nbformat": 4,
 "nbformat_minor": 1
}
